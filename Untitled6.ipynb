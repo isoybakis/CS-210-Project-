{
 "cells": [
  {
   "cell_type": "code",
   "execution_count": 1,
   "metadata": {},
   "outputs": [],
   "source": [
    "import pandas as pd \n",
    "import matplotlib.pyplot as plt\n",
    "import seaborn as sns\n",
    "from scipy import stats as st\n",
    "import matplotlib.pyplot as plt   #Data visualisation libraries \n",
    "import seaborn as sns\n",
    "import numpy as np\n",
    "from sklearn.linear_model import LinearRegression\n",
    "from sklearn import datasets\n",
    "import warnings\n",
    "warnings.filterwarnings('ignore')\n"
   ]
  },
  {
   "cell_type": "markdown",
   "metadata": {},
   "source": [
    "As always, we are taking our dataset from the csv file as a first thing. After that, we are getting rid of some columns that either does not affect our ML algorithms such as Title or implied by other columns such as Cvotes columns!"
   ]
  },
  {
   "cell_type": "code",
   "execution_count": 2,
   "metadata": {
    "scrolled": true
   },
   "outputs": [
    {
     "data": {
      "text/html": [
       "<div>\n",
       "<style scoped>\n",
       "    .dataframe tbody tr th:only-of-type {\n",
       "        vertical-align: middle;\n",
       "    }\n",
       "\n",
       "    .dataframe tbody tr th {\n",
       "        vertical-align: top;\n",
       "    }\n",
       "\n",
       "    .dataframe thead th {\n",
       "        text-align: right;\n",
       "    }\n",
       "</style>\n",
       "<table border=\"1\" class=\"dataframe\">\n",
       "  <thead>\n",
       "    <tr style=\"text-align: right;\">\n",
       "      <th></th>\n",
       "      <th>Unnamed: 0</th>\n",
       "      <th>Rating</th>\n",
       "      <th>TotalVotes</th>\n",
       "      <th>Genre1</th>\n",
       "      <th>Genre2</th>\n",
       "      <th>Genre3</th>\n",
       "      <th>MetaCritic</th>\n",
       "      <th>Runtime</th>\n",
       "    </tr>\n",
       "  </thead>\n",
       "  <tbody>\n",
       "    <tr>\n",
       "      <th>0</th>\n",
       "      <td>1</td>\n",
       "      <td>8.1</td>\n",
       "      <td>496,092</td>\n",
       "      <td>Biography</td>\n",
       "      <td>Drama</td>\n",
       "      <td>History</td>\n",
       "      <td>96.0</td>\n",
       "      <td>134 min</td>\n",
       "    </tr>\n",
       "    <tr>\n",
       "      <th>1</th>\n",
       "      <td>2</td>\n",
       "      <td>7.6</td>\n",
       "      <td>297,075</td>\n",
       "      <td>Adventure</td>\n",
       "      <td>Biography</td>\n",
       "      <td>Drama</td>\n",
       "      <td>82.0</td>\n",
       "      <td>94 min</td>\n",
       "    </tr>\n",
       "    <tr>\n",
       "      <th>2</th>\n",
       "      <td>3</td>\n",
       "      <td>7.7</td>\n",
       "      <td>283,935</td>\n",
       "      <td>Comedy</td>\n",
       "      <td>Drama</td>\n",
       "      <td>Romance</td>\n",
       "      <td>72.0</td>\n",
       "      <td>100 min</td>\n",
       "    </tr>\n",
       "    <tr>\n",
       "      <th>5</th>\n",
       "      <td>6</td>\n",
       "      <td>7.7</td>\n",
       "      <td>486,840</td>\n",
       "      <td>Action</td>\n",
       "      <td>Biography</td>\n",
       "      <td>Drama</td>\n",
       "      <td>86.0</td>\n",
       "      <td>120 min</td>\n",
       "    </tr>\n",
       "    <tr>\n",
       "      <th>6</th>\n",
       "      <td>7</td>\n",
       "      <td>8.0</td>\n",
       "      <td>370,842</td>\n",
       "      <td>Drama</td>\n",
       "      <td>Mystery</td>\n",
       "      <td>Sci-Fi</td>\n",
       "      <td>81.0</td>\n",
       "      <td>116 min</td>\n",
       "    </tr>\n",
       "  </tbody>\n",
       "</table>\n",
       "</div>"
      ],
      "text/plain": [
       "   Unnamed: 0  Rating TotalVotes     Genre1     Genre2   Genre3  MetaCritic  \\\n",
       "0           1     8.1    496,092  Biography      Drama  History        96.0   \n",
       "1           2     7.6    297,075  Adventure  Biography    Drama        82.0   \n",
       "2           3     7.7    283,935     Comedy      Drama  Romance        72.0   \n",
       "5           6     7.7    486,840     Action  Biography    Drama        86.0   \n",
       "6           7     8.0    370,842      Drama    Mystery   Sci-Fi        81.0   \n",
       "\n",
       "   Runtime  \n",
       "0  134 min  \n",
       "1   94 min  \n",
       "2  100 min  \n",
       "5  120 min  \n",
       "6  116 min  "
      ]
     },
     "execution_count": 2,
     "metadata": {},
     "output_type": "execute_result"
    }
   ],
   "source": [
    "genreeffect = pd.read_csv('IMDB.csv',encoding='latin-1')\n",
    "\n",
    "genreeffect.drop (['Title','Budget','ï..CVotes10','CVotes09','CVotes08','CVotes07','CVotes06','CVotes05','CVotes04','CVotes03','CVotes02','CVotes01','CVotesMale','CVotesFemale','CVotesU18','CVotesU18M','CVotesU18F','CVotes1829','CVotes1829M','CVotes1829F','CVotes3044','CVotes3044M','CVotes3044F','CVotes45A','CVotes45AM','CVotes45AF','CVotes1000','CVotesUS','CVotesnUS','VotesM','VotesF','VotesU18','VotesU18M','VotesU18F','Votes1829','Votes1829M','Votes1829F','Votes3044','Votes3044M','Votes3044F','Votes45A','Votes45AM','Votes45AF','VotesIMDB','Votes1000','VotesUS','VotesnUS'],axis=1,inplace=True)\n",
    "genreeffect.dropna(axis=0,inplace=True)\n",
    "genreeffect.head()"
   ]
  },
  {
   "cell_type": "markdown",
   "metadata": {},
   "source": [
    "Now let us first check value counts of Genre columns. We will later cast them to integer variables to be able to use in classifiers."
   ]
  },
  {
   "cell_type": "code",
   "execution_count": 3,
   "metadata": {},
   "outputs": [
    {
     "data": {
      "text/plain": [
       "Action       23\n",
       "Adventure    10\n",
       "Biography    10\n",
       "Crime         8\n",
       "Drama         6\n",
       "Animation     5\n",
       "Comedy        4\n",
       "Name: Genre1, dtype: int64"
      ]
     },
     "execution_count": 3,
     "metadata": {},
     "output_type": "execute_result"
    }
   ],
   "source": [
    "genreeffect['Genre1'].value_counts()"
   ]
  },
  {
   "cell_type": "code",
   "execution_count": 4,
   "metadata": {},
   "outputs": [
    {
     "data": {
      "text/plain": [
       "Drama        27\n",
       "Adventure    20\n",
       "Comedy        6\n",
       "Biography     4\n",
       "Mystery       2\n",
       "Crime         1\n",
       "Romance       1\n",
       "History       1\n",
       "Sci-Fi        1\n",
       "Family        1\n",
       "Musical       1\n",
       "Action        1\n",
       "Name: Genre2, dtype: int64"
      ]
     },
     "execution_count": 4,
     "metadata": {},
     "output_type": "execute_result"
    }
   ],
   "source": [
    "genreeffect['Genre2'].value_counts()"
   ]
  },
  {
   "cell_type": "code",
   "execution_count": 5,
   "metadata": {},
   "outputs": [
    {
     "data": {
      "text/plain": [
       "Sci-Fi       15\n",
       "Drama        11\n",
       "Thriller     10\n",
       "Romance       6\n",
       "History       5\n",
       "Comedy        4\n",
       "Mystery       4\n",
       "Fantasy       3\n",
       "Sport         2\n",
       "Music         1\n",
       "Crime         1\n",
       "War           1\n",
       "Adventure     1\n",
       "Western       1\n",
       "Family        1\n",
       "Name: Genre3, dtype: int64"
      ]
     },
     "execution_count": 5,
     "metadata": {},
     "output_type": "execute_result"
    }
   ],
   "source": [
    "genreeffect['Genre3'].value_counts()"
   ]
  },
  {
   "cell_type": "markdown",
   "metadata": {},
   "source": [
    "Now, we will look at the distribution of the rating attribute to accurately divide it to classes."
   ]
  },
  {
   "cell_type": "code",
   "execution_count": 6,
   "metadata": {},
   "outputs": [
    {
     "data": {
      "image/png": "[encoded data removed]",
      "text/plain": [
       "<Figure size 432x288 with 1 Axes>"
      ]
     },
     "metadata": {
      "needs_background": "light"
     },
     "output_type": "display_data"
    }
   ],
   "source": [
    "ax=genreeffect['Rating'].plot.kde()"
   ]
  },
  {
   "cell_type": "markdown",
   "metadata": {},
   "source": [
    "After looking at the kde plot, we decided to categorize Rating data in the following way.\n",
    " - Rating <7.8 -> Low\n",
    " - Rating >=7.8 and Rating <=8.0 -> Medium\n",
    " - Rating >8.0 -> High"
   ]
  },
  {
   "cell_type": "markdown",
   "metadata": {},
   "source": [
    "While categorizing ratings, we are also casting genres to numeric values at the same time."
   ]
  },
  {
   "cell_type": "code",
   "execution_count": 7,
   "metadata": {},
   "outputs": [
    {
     "data": {
      "text/html": [
       "<div>\n",
       "<style scoped>\n",
       "    .dataframe tbody tr th:only-of-type {\n",
       "        vertical-align: middle;\n",
       "    }\n",
       "\n",
       "    .dataframe tbody tr th {\n",
       "        vertical-align: top;\n",
       "    }\n",
       "\n",
       "    .dataframe thead th {\n",
       "        text-align: right;\n",
       "    }\n",
       "</style>\n",
       "<table border=\"1\" class=\"dataframe\">\n",
       "  <thead>\n",
       "    <tr style=\"text-align: right;\">\n",
       "      <th></th>\n",
       "      <th>Unnamed: 0</th>\n",
       "      <th>Rating</th>\n",
       "      <th>TotalVotes</th>\n",
       "      <th>Genre1</th>\n",
       "      <th>Genre2</th>\n",
       "      <th>Genre3</th>\n",
       "      <th>MetaCritic</th>\n",
       "      <th>Runtime</th>\n",
       "      <th>Numeric_Genre1</th>\n",
       "      <th>Numeric_Genre2</th>\n",
       "      <th>Numeric_Genre3</th>\n",
       "      <th>Rating_Categories</th>\n",
       "    </tr>\n",
       "  </thead>\n",
       "  <tbody>\n",
       "    <tr>\n",
       "      <th>0</th>\n",
       "      <td>1</td>\n",
       "      <td>8.1</td>\n",
       "      <td>496,092</td>\n",
       "      <td>Biography</td>\n",
       "      <td>Drama</td>\n",
       "      <td>History</td>\n",
       "      <td>96.0</td>\n",
       "      <td>134 min</td>\n",
       "      <td>0</td>\n",
       "      <td>1</td>\n",
       "      <td>2</td>\n",
       "      <td>High</td>\n",
       "    </tr>\n",
       "    <tr>\n",
       "      <th>1</th>\n",
       "      <td>2</td>\n",
       "      <td>7.6</td>\n",
       "      <td>297,075</td>\n",
       "      <td>Adventure</td>\n",
       "      <td>Biography</td>\n",
       "      <td>Drama</td>\n",
       "      <td>82.0</td>\n",
       "      <td>94 min</td>\n",
       "      <td>3</td>\n",
       "      <td>0</td>\n",
       "      <td>1</td>\n",
       "      <td>Low</td>\n",
       "    </tr>\n",
       "    <tr>\n",
       "      <th>2</th>\n",
       "      <td>3</td>\n",
       "      <td>7.7</td>\n",
       "      <td>283,935</td>\n",
       "      <td>Comedy</td>\n",
       "      <td>Drama</td>\n",
       "      <td>Romance</td>\n",
       "      <td>72.0</td>\n",
       "      <td>100 min</td>\n",
       "      <td>4</td>\n",
       "      <td>1</td>\n",
       "      <td>5</td>\n",
       "      <td>Low</td>\n",
       "    </tr>\n",
       "    <tr>\n",
       "      <th>5</th>\n",
       "      <td>6</td>\n",
       "      <td>7.7</td>\n",
       "      <td>486,840</td>\n",
       "      <td>Action</td>\n",
       "      <td>Biography</td>\n",
       "      <td>Drama</td>\n",
       "      <td>86.0</td>\n",
       "      <td>120 min</td>\n",
       "      <td>6</td>\n",
       "      <td>0</td>\n",
       "      <td>1</td>\n",
       "      <td>Low</td>\n",
       "    </tr>\n",
       "    <tr>\n",
       "      <th>6</th>\n",
       "      <td>7</td>\n",
       "      <td>8.0</td>\n",
       "      <td>370,842</td>\n",
       "      <td>Drama</td>\n",
       "      <td>Mystery</td>\n",
       "      <td>Sci-Fi</td>\n",
       "      <td>81.0</td>\n",
       "      <td>116 min</td>\n",
       "      <td>1</td>\n",
       "      <td>7</td>\n",
       "      <td>8</td>\n",
       "      <td>Medium</td>\n",
       "    </tr>\n",
       "  </tbody>\n",
       "</table>\n",
       "</div>"
      ],
      "text/plain": [
       "   Unnamed: 0  Rating TotalVotes     Genre1     Genre2   Genre3  MetaCritic  \\\n",
       "0           1     8.1    496,092  Biography      Drama  History        96.0   \n",
       "1           2     7.6    297,075  Adventure  Biography    Drama        82.0   \n",
       "2           3     7.7    283,935     Comedy      Drama  Romance        72.0   \n",
       "5           6     7.7    486,840     Action  Biography    Drama        86.0   \n",
       "6           7     8.0    370,842      Drama    Mystery   Sci-Fi        81.0   \n",
       "\n",
       "   Runtime  Numeric_Genre1  Numeric_Genre2  Numeric_Genre3 Rating_Categories  \n",
       "0  134 min               0               1               2              High  \n",
       "1   94 min               3               0               1               Low  \n",
       "2  100 min               4               1               5               Low  \n",
       "5  120 min               6               0               1               Low  \n",
       "6  116 min               1               7               8            Medium  "
      ]
     },
     "execution_count": 7,
     "metadata": {},
     "output_type": "execute_result"
    }
   ],
   "source": [
    "genreSet=[]\n",
    "for index,row in genreeffect.iterrows():\n",
    "    if row['Genre1'] not in genreSet:\n",
    "        genreSet.append(row['Genre1'])\n",
    "    if row['Genre2'] not in genreSet:\n",
    "        genreSet.append(row['Genre2'])\n",
    "    if row['Genre3'] not in genreSet:\n",
    "        genreSet.append(row['Genre3'])\n",
    "rating_cats=list()\n",
    "numericGenre1=list()\n",
    "numericGenre2=list()\n",
    "numericGenre3=list()\n",
    "for index,row in genreeffect.iterrows():\n",
    "    numericGenre1.append(genreSet.index(row['Genre1']))\n",
    "    numericGenre2.append(genreSet.index(row['Genre2']))\n",
    "    numericGenre3.append(genreSet.index(row['Genre3']))\n",
    "    if row['Rating'] < 7.8:\n",
    "        rating_cats.append(\"Low\")\n",
    "    elif row['Rating'] >8.0:\n",
    "        rating_cats.append(\"High\")\n",
    "    else:\n",
    "        rating_cats.append(\"Medium\")\n",
    "genreeffect['Numeric_Genre1']=numericGenre1\n",
    "genreeffect['Numeric_Genre2']=numericGenre2\n",
    "genreeffect['Numeric_Genre3']=numericGenre3\n",
    "genreeffect[\"Rating_Categories\"]=rating_cats\n",
    "genreeffect.head()\n"
   ]
  },
  {
   "cell_type": "markdown",
   "metadata": {},
   "source": [
    "Now, we will extract labels from the dataset. Moreover, we will turn some non-numeric values to their numeric equivalencies in order to implement classifiers in a healthy way."
   ]
  },
  {
   "cell_type": "code",
   "execution_count": 8,
   "metadata": {},
   "outputs": [
    {
     "data": {
      "text/html": [
       "<div>\n",
       "<style scoped>\n",
       "    .dataframe tbody tr th:only-of-type {\n",
       "        vertical-align: middle;\n",
       "    }\n",
       "\n",
       "    .dataframe tbody tr th {\n",
       "        vertical-align: top;\n",
       "    }\n",
       "\n",
       "    .dataframe thead th {\n",
       "        text-align: right;\n",
       "    }\n",
       "</style>\n",
       "<table border=\"1\" class=\"dataframe\">\n",
       "  <thead>\n",
       "    <tr style=\"text-align: right;\">\n",
       "      <th></th>\n",
       "      <th>Unnamed: 0</th>\n",
       "      <th>MetaCritic</th>\n",
       "      <th>Numeric_Genre1</th>\n",
       "      <th>Numeric_Genre2</th>\n",
       "      <th>Numeric_Genre3</th>\n",
       "      <th>runtimes</th>\n",
       "      <th>totalvotes</th>\n",
       "    </tr>\n",
       "  </thead>\n",
       "  <tbody>\n",
       "    <tr>\n",
       "      <th>0</th>\n",
       "      <td>1</td>\n",
       "      <td>96.0</td>\n",
       "      <td>0</td>\n",
       "      <td>1</td>\n",
       "      <td>2</td>\n",
       "      <td>134</td>\n",
       "      <td>496092</td>\n",
       "    </tr>\n",
       "    <tr>\n",
       "      <th>1</th>\n",
       "      <td>2</td>\n",
       "      <td>82.0</td>\n",
       "      <td>3</td>\n",
       "      <td>0</td>\n",
       "      <td>1</td>\n",
       "      <td>94</td>\n",
       "      <td>297075</td>\n",
       "    </tr>\n",
       "    <tr>\n",
       "      <th>2</th>\n",
       "      <td>3</td>\n",
       "      <td>72.0</td>\n",
       "      <td>4</td>\n",
       "      <td>1</td>\n",
       "      <td>5</td>\n",
       "      <td>100</td>\n",
       "      <td>283935</td>\n",
       "    </tr>\n",
       "    <tr>\n",
       "      <th>5</th>\n",
       "      <td>6</td>\n",
       "      <td>86.0</td>\n",
       "      <td>6</td>\n",
       "      <td>0</td>\n",
       "      <td>1</td>\n",
       "      <td>120</td>\n",
       "      <td>486840</td>\n",
       "    </tr>\n",
       "    <tr>\n",
       "      <th>6</th>\n",
       "      <td>7</td>\n",
       "      <td>81.0</td>\n",
       "      <td>1</td>\n",
       "      <td>7</td>\n",
       "      <td>8</td>\n",
       "      <td>116</td>\n",
       "      <td>370842</td>\n",
       "    </tr>\n",
       "  </tbody>\n",
       "</table>\n",
       "</div>"
      ],
      "text/plain": [
       "   Unnamed: 0  MetaCritic  Numeric_Genre1  Numeric_Genre2  Numeric_Genre3  \\\n",
       "0           1        96.0               0               1               2   \n",
       "1           2        82.0               3               0               1   \n",
       "2           3        72.0               4               1               5   \n",
       "5           6        86.0               6               0               1   \n",
       "6           7        81.0               1               7               8   \n",
       "\n",
       "   runtimes  totalvotes  \n",
       "0       134      496092  \n",
       "1        94      297075  \n",
       "2       100      283935  \n",
       "5       120      486840  \n",
       "6       116      370842  "
      ]
     },
     "execution_count": 8,
     "metadata": {},
     "output_type": "execute_result"
    }
   ],
   "source": [
    "runtimes=list()\n",
    "totalvotes=list()\n",
    "for index,row in genreeffect.iterrows():\n",
    "    runtimes.append(str(row['Runtime']))\n",
    "    totalvotes.append(str(row['TotalVotes']).replace(',',''))\n",
    "for i in range(0,len(runtimes)):\n",
    "    runtimes[i]=runtimes[i][:len(runtimes[i])-3]\n",
    "genreeffect['runtimes']=runtimes\n",
    "genreeffect['totalvotes']=totalvotes\n",
    "genreeffect['runtimes'] = genreeffect.runtimes.astype(int)\n",
    "genreeffect['totalvotes']= genreeffect.totalvotes.astype(int)\n",
    "labels=genreeffect[['Rating_Categories']].copy()\n",
    "genreeffect.drop(['Rating',\"Rating_Categories\",'Genre1','Genre2','Genre3','Runtime','TotalVotes'],axis=1,inplace=True)\n",
    "genreeffect.head()"
   ]
  },
  {
   "cell_type": "markdown",
   "metadata": {},
   "source": [
    "This is our final data points. Below, you can see our labels too."
   ]
  },
  {
   "cell_type": "code",
   "execution_count": 9,
   "metadata": {},
   "outputs": [
    {
     "data": {
      "text/plain": [
       "array(['High', 'Low', 'Medium'], dtype=object)"
      ]
     },
     "execution_count": 9,
     "metadata": {},
     "output_type": "execute_result"
    }
   ],
   "source": [
    "labels['Rating_Categories'].unique()"
   ]
  },
  {
   "cell_type": "markdown",
   "metadata": {},
   "source": [
    "It is time to perform our first classifier. Since we will do it for both raw data points and normalized data points, we are defining a function to do all the operations."
   ]
  },
  {
   "cell_type": "markdown",
   "metadata": {},
   "source": [
    "### KNN Classifier"
   ]
  },
  {
   "cell_type": "code",
   "execution_count": 10,
   "metadata": {},
   "outputs": [],
   "source": [
    "from sklearn.neighbors import KNeighborsClassifier\n",
    "from sklearn import metrics\n",
    "from sklearn.model_selection import train_test_split\n",
    "def performKNN(data,labelarr):\n",
    "    X = data\n",
    "    y = labelarr\n",
    "    X_train, X_test, y_train, y_test = train_test_split(X, y, test_size= 0.2)\n",
    "    accuracy=[]\n",
    "    for n in range(1,20):\n",
    "        knn = KNeighborsClassifier(n_neighbors=n)\n",
    "        knn.fit(X_train, y_train)\n",
    "        y_pred = knn.predict(X_test)\n",
    "        accuracy.append(metrics.accuracy_score(y_test, y_pred))\n",
    "    plt.plot(range(1, 20), accuracy, color='red')\n",
    "    plt.title('Accuracy of the Model w/ k-Value')  \n",
    "    plt.xlabel('k-Value')  \n",
    "    plt.ylabel('Accuracy')\n",
    "    plt.xticks(range(1,20))\n",
    "    plt.show()"
   ]
  },
  {
   "cell_type": "markdown",
   "metadata": {},
   "source": [
    " First, we do KNN classifier on raw data."
   ]
  },
  {
   "cell_type": "code",
   "execution_count": 11,
   "metadata": {},
   "outputs": [
    {
     "data": {
      "image/png": "[encoded data removed]",
      "text/plain": [
       "<Figure size 432x288 with 1 Axes>"
      ]
     },
     "metadata": {
      "needs_background": "light"
     },
     "output_type": "display_data"
    }
   ],
   "source": [
    "performKNN(genreeffect,labels)"
   ]
  },
  {
   "cell_type": "markdown",
   "metadata": {},
   "source": [
    "Now, lets do it with the normalized data. The reason we are doing this is to show that some attributes dominate in the classification process due to their big values. By normalizing, we are getting rid of that bias."
   ]
  },
  {
   "cell_type": "code",
   "execution_count": 12,
   "metadata": {},
   "outputs": [
    {
     "data": {
      "image/png": "[encoded data removed]",
      "text/plain": [
       "<Figure size 432x288 with 1 Axes>"
      ]
     },
     "metadata": {
      "needs_background": "light"
     },
     "output_type": "display_data"
    }
   ],
   "source": [
    "normalized_genreeffects = (genreeffect-genreeffect.mean()) / genreeffect.std()\n",
    "performKNN(normalized_genreeffects,labels)"
   ]
  },
  {
   "cell_type": "markdown",
   "metadata": {},
   "source": [
    "### Naive Bayes"
   ]
  },
  {
   "cell_type": "code",
   "execution_count": 13,
   "metadata": {},
   "outputs": [],
   "source": [
    "from sklearn.naive_bayes import GaussianNB\n",
    "from sklearn.metrics import accuracy_score, f1_score\n",
    "def performNB(data,labelarr):\n",
    "    clf = GaussianNB()\n",
    "    X_train, X_test, y_train, y_test = train_test_split(data, labelarr, test_size=0.2)\n",
    "    clf.fit(X_train, y_train)\n",
    "    y_pred = clf.predict(X_test)\n",
    "    print(\"Accuracy is: \", accuracy_score(y_test, y_pred))\n",
    "    print(\"F1 score is: \",f1_score(y_test, y_pred,average='weighted'))"
   ]
  },
  {
   "cell_type": "markdown",
   "metadata": {},
   "source": [
    "Below we can find related Naive-Bayes classifier details."
   ]
  },
  {
   "cell_type": "code",
   "execution_count": 14,
   "metadata": {},
   "outputs": [
    {
     "name": "stdout",
     "output_type": "stream",
     "text": [
      "Accuracy is:  0.5\n",
      "F1 score is:  0.4652014652014652\n"
     ]
    }
   ],
   "source": [
    "performNB(genreeffect,labels)"
   ]
  },
  {
   "cell_type": "markdown",
   "metadata": {},
   "source": [
    "### Comparison\n"
   ]
  },
  {
   "cell_type": "markdown",
   "metadata": {},
   "source": [
    "Now, we will compare performance of Naive-Bayes classifier and kNN Classifier with ranging test_sizes. For the purposes of this comparison, we will select k=15 for kNN with normalized data."
   ]
  },
  {
   "cell_type": "code",
   "execution_count": 15,
   "metadata": {},
   "outputs": [],
   "source": [
    "def Comparison(data,labelarr):\n",
    "    accuracies_knn=[]\n",
    "    f1_scores_knn=[]\n",
    "    accuracies_nb=[]\n",
    "    f1_scores_nb=[]\n",
    "    normalized_data = (data-data.mean()) / data.std()\n",
    "    for i in range(20,41):#we will divide these by 100, so test_size values will be changing in between 0.2 and 0.4\n",
    "        #NB\n",
    "        clf = GaussianNB()\n",
    "        X_train, X_test, y_train, y_test = train_test_split(data, labelarr, test_size=i*0.01,random_state=30)\n",
    "        clf.fit(X_train, y_train)\n",
    "        y_pred = clf.predict(X_test)\n",
    "        accuracies_nb.append(accuracy_score(y_test, y_pred))\n",
    "        f1_scores_nb.append(f1_score(y_test, y_pred,average='weighted'))\n",
    "        #kNN\n",
    "        knn = KNeighborsClassifier(n_neighbors=15)\n",
    "        X_train2, X_test2, y_train2, y_test2 = train_test_split(normalized_data, labels, test_size= i*0.01)\n",
    "        knn.fit(X_train2, y_train2)\n",
    "        y_pred2 = knn.predict(X_test2)\n",
    "        accuracies_knn.append(accuracy_score(y_test2,y_pred2))\n",
    "        f1_scores_knn.append(f1_score(y_test2, y_pred2,average='weighted'))\n",
    "    x_vals=[0.01*i for i in range(20,41)]\n",
    "    fig=plt.figure(figsize=(12,12))\n",
    "    sub1=fig.add_subplot(211)\n",
    "    sub1.plot(x_vals, accuracies_knn, color='red')\n",
    "    sub1.plot(x_vals, accuracies_nb,color='yellow')\n",
    "    sub1.set_title('Accuracy Comparison')  \n",
    "    sub1.set_xlabel('test_size')  \n",
    "    sub1.set_ylabel('Accuracy')\n",
    "    sub1.set_xticks(x_vals)\n",
    "    sub1.legend((\"KNN\",\"Naive-Bayes\"),loc=\"upper right\")\n",
    "    sub2=fig.add_subplot(212)\n",
    "    sub2.plot(x_vals, f1_scores_knn, color='red')\n",
    "    sub2.plot(x_vals, f1_scores_nb,color='yellow')\n",
    "    sub2.set_title('F1 Score Comparison')  \n",
    "    sub2.set_xlabel('test_size')  \n",
    "    sub2.set_ylabel('F1 Score')\n",
    "    sub2.set_xticks(x_vals)\n",
    "    sub2.legend((\"KNN\",\"Naive-Bayes\"),loc=\"upper right\")\n",
    "    plt.tight_layout()\n",
    "    plt.show()\n",
    "        "
   ]
  },
  {
   "cell_type": "code",
   "execution_count": 16,
   "metadata": {},
   "outputs": [
    {
     "data": {
      "image/png": "[encoded data removed]",
      "text/plain": [
       "<Figure size 864x864 with 2 Axes>"
      ]
     },
     "metadata": {
      "needs_background": "light"
     },
     "output_type": "display_data"
    }
   ],
   "source": [
    "Comparison(genreeffect,labels)"
   ]
  },
  {
   "cell_type": "markdown",
   "metadata": {},
   "source": [
    "From the figures above, we can say that Naive-Bayes works better for our dataset. However, in comparison with the examples in the class, both of our methods give really poor results. This is due to the fact that dataset only contains so little data points."
   ]
  },
  {
   "cell_type": "code",
   "execution_count": null,
   "metadata": {},
   "outputs": [],
   "source": []
  }
 ],
 "metadata": {
  "kernelspec": {
   "display_name": "Python 3",
   "language": "python",
   "name": "python3"
  },
  "language_info": {
   "codemirror_mode": {
    "name": "ipython",
    "version": 3
   },
   "file_extension": ".py",
   "mimetype": "text/x-python",
   "name": "python",
   "nbconvert_exporter": "python",
   "pygments_lexer": "ipython3",
   "version": "3.7.1"
  }
 },
 "nbformat": 4,
 "nbformat_minor": 2
}
